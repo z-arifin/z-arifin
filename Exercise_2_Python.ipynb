{
  "nbformat": 4,
  "nbformat_minor": 0,
  "metadata": {
    "colab": {
      "provenance": [],
      "collapsed_sections": [
        "0_sy8h25I6Ss",
        "kdDcY_4MJsID",
        "4Y02S7plKkUU",
        "80BZybABLNfX"
      ],
      "include_colab_link": true
    },
    "kernelspec": {
      "name": "python3",
      "display_name": "Python 3"
    },
    "language_info": {
      "name": "python"
    }
  },
  "cells": [
    {
      "cell_type": "markdown",
      "metadata": {
        "id": "view-in-github",
        "colab_type": "text"
      },
      "source": [
        "<a href=\"https://colab.research.google.com/github/z-arifin/z-arifin/blob/main/Exercise_2_Python.ipynb\" target=\"_parent\"><img src=\"https://colab.research.google.com/assets/colab-badge.svg\" alt=\"Open In Colab\"/></a>"
      ]
    },
    {
      "cell_type": "markdown",
      "source": [
        "# **Exercise 2 Python**\n",
        "\n",
        "Python Course - Sekolah Data - Pacmann Academy\n",
        "\n",
        "Materi yang diujikan pada exercise ini adalah\n",
        "1. Composite Data Structure\n",
        "2. Looping\n",
        "3. Function I\n",
        "4. Function II"
      ],
      "metadata": {
        "id": "Dlz3iy7U1xQ4"
      }
    },
    {
      "cell_type": "markdown",
      "source": [
        "# **Composite Data Structure**"
      ],
      "metadata": {
        "id": "0_sy8h25I6Ss"
      }
    },
    {
      "cell_type": "markdown",
      "source": [
        "###1"
      ],
      "metadata": {
        "id": "6WSvqCaMW7iB"
      }
    },
    {
      "cell_type": "markdown",
      "source": [
        "Daftar nilai ujian sebuah kelas adalah sebagai berikut\n",
        "\n",
        "`nilai = 80, 65, 70, 90, 60, 90, 90, 85, 80, 70, 75, 65, 80, 90, 65, 90` "
      ],
      "metadata": {
        "id": "fY_TzcThXjpK"
      }
    },
    {
      "cell_type": "markdown",
      "source": [
        "##### **1A**"
      ],
      "metadata": {
        "id": "5-r7x98vY6_a"
      }
    },
    {
      "cell_type": "markdown",
      "source": [
        "Buatlah sebuah list untuk menampung nilai ujian tersebut. Kemudian hitunglah jumlah murid dan carilah nilai tertinggi dan terendah"
      ],
      "metadata": {
        "id": "BYe4CmNyYNhQ"
      }
    },
    {
      "cell_type": "code",
      "source": [
        "# buat list yang menampung nilai ujian\n",
        "...\n",
        "\n",
        "# Hitung jumlah murid di kelas tersebut\n",
        "...\n",
        "\n",
        "# print jumlah siswa di dalam kelas\n",
        "...\n",
        "\n",
        "# buat variabel dan print nilai tertinggi\n",
        "...\n",
        "\n",
        "# buat variabel dan print nilai terendah\n",
        "..."
      ],
      "metadata": {
        "colab": {
          "base_uri": "https://localhost:8080/"
        },
        "id": "OOc_NkMSW5Kh",
        "outputId": "d99ee3d1-5e0a-4051-d979-37c58bc81eb5"
      },
      "execution_count": null,
      "outputs": [
        {
          "output_type": "stream",
          "name": "stdout",
          "text": [
            "Jumlah siswa di dalam kelas : 18 siswa\n",
            "Nilai tertinggi : 95\n",
            "Nilai terendah : 65\n"
          ]
        }
      ]
    },
    {
      "cell_type": "markdown",
      "source": [
        "##### **1B**"
      ],
      "metadata": {
        "id": "epvdVKeyZbiY"
      }
    },
    {
      "cell_type": "markdown",
      "source": [
        "Jika siswa memiliki nilai yang kurang dari rata-rata maka siswa harus ujian ulang. Berapakah jumlah siswa yang memiliki nilai dibawah rata-rata\n",
        "\n",
        "\n",
        "```\n",
        "Keterangan:\n",
        "- Bulatkan nilai rata-rata dua nilai dibelakang koma\n",
        "- gunakan list comprehension untuk nilai yang kurang dari rata-rata\n",
        "```\n",
        "\n"
      ],
      "metadata": {
        "id": "clExnnloazTf"
      }
    },
    {
      "cell_type": "code",
      "source": [
        "# hitunglah dan print nilai rata-rata ujian\n",
        "...\n",
        "\n",
        "# cari dan print nilai siswa yang kurang dari rata-rata dengan list comprehension\n",
        "...\n",
        "\n",
        "# hitung dan print jumlah nilai yang kurang dari rata-rata\n",
        "..."
      ],
      "metadata": {
        "colab": {
          "base_uri": "https://localhost:8080/"
        },
        "id": "8UfCpN0Da_3m",
        "outputId": "9d9dd2b0-8d9d-4ca5-a004-dc2b63c953d4"
      },
      "execution_count": null,
      "outputs": [
        {
          "output_type": "stream",
          "name": "stdout",
          "text": [
            "Rata-rata Nilai Ujian adalah : 78.06\n",
            "Nilai kurang dari rata-rata : [65, 70, 70, 70, 75, 65, 65, 65]\n",
            "Banyak siswa yang nialainya kurang dari rata-rata adalah : 8\n"
          ]
        }
      ]
    },
    {
      "cell_type": "markdown",
      "source": [
        "#### **1C**"
      ],
      "metadata": {
        "id": "eCyOfjLBfKaX"
      }
    },
    {
      "cell_type": "markdown",
      "source": [
        "Hitunglah prosentase siswa yang lulus dan siswa yang tidak lulus ujian.\n"
      ],
      "metadata": {
        "id": "saN9e0XjfM3p"
      }
    },
    {
      "cell_type": "code",
      "source": [
        "# buat variabel dahulu untuk menampung jumlah siswa yang lulus\n",
        "...\n",
        "\n",
        "# hitung prosentase siswa yang lulus\n",
        "...\n",
        "\n",
        "# print prosentase siswa lulus ujian, bulatkan dua angka dibelakang koma\n",
        "...\n",
        "\n",
        "# hitung prosentase siswa yang tidak lulus\n",
        "...\n",
        "\n",
        "# print prosentase siswa yang tidak lulus\n",
        "..."
      ],
      "metadata": {
        "colab": {
          "base_uri": "https://localhost:8080/"
        },
        "id": "m-szftFXa_6q",
        "outputId": "638e3605-a6e3-4acb-b3ed-7b90a943cd18"
      },
      "execution_count": null,
      "outputs": [
        {
          "output_type": "stream",
          "name": "stdout",
          "text": [
            "Prosentase Siswa lulus ujian = 55.56%\n",
            "Prosentase Siswa tidak lulus ujian = 44.44%\n"
          ]
        }
      ]
    },
    {
      "cell_type": "markdown",
      "source": [
        "---"
      ],
      "metadata": {
        "id": "02VGxe-Fu0VE"
      }
    },
    {
      "cell_type": "markdown",
      "source": [
        "### **2**"
      ],
      "metadata": {
        "id": "fLRE7Si1EFIj"
      }
    },
    {
      "cell_type": "markdown",
      "source": [
        "Penjualan suatu produk pestisida selama tiga bulan dari tiga jenis produk disimpan di dalam data berikut.\n",
        "\n",
        "|Bulan|Produk 1|Produk 2|Produk 3|\n",
        "|-|-|-|-|\n",
        "|Bulan 1|40|45|39|\n",
        "|Bulan 2|48|50|43|\n",
        "|Bulan 3|45|48|45|\n",
        "\n",
        "Angka pada data di atas menunjukkan jumlah produk yang terjual"
      ],
      "metadata": {
        "id": "otpRbBoFn7ng"
      }
    },
    {
      "cell_type": "markdown",
      "source": [
        "#### **2A**"
      ],
      "metadata": {
        "id": "eHdD7kiHpUel"
      }
    },
    {
      "cell_type": "markdown",
      "source": [
        "Buatlah sebuah tuple of tuple yang menyimpan seluruh data penjualan produk tersebut per bulan. Simpan hanya angkanya saja.\n",
        "\n",
        "\n",
        "```\n",
        "Keterangan:\n",
        "- Struktur tuple\n",
        "  - my_tuple = ((jumlah_produk_bulan_1, jumlah_produk_bulan_2, jumlah_produk_bulan_3), ...)\n",
        "```\n",
        "\n"
      ],
      "metadata": {
        "id": "sBJAiNQVpYxl"
      }
    },
    {
      "cell_type": "code",
      "source": [
        "# definisikan sebuah tuple\n",
        "...\n",
        "\n",
        "# tampilkan tuple tersebut\n",
        "..."
      ],
      "metadata": {
        "colab": {
          "base_uri": "https://localhost:8080/"
        },
        "id": "urnhMcpFEHJ0",
        "outputId": "068329b0-0e2b-48d3-ded5-d771b5613a29"
      },
      "execution_count": null,
      "outputs": [
        {
          "output_type": "stream",
          "name": "stdout",
          "text": [
            "((40, 45, 39), (48, 50, 43), (45, 48, 45))\n"
          ]
        }
      ]
    },
    {
      "cell_type": "markdown",
      "source": [
        "#### **2B**"
      ],
      "metadata": {
        "id": "DdkHBWKEp7i7"
      }
    },
    {
      "cell_type": "markdown",
      "source": [
        "Carilah rata-rata penjualan setiap bulan dari ketiga produk tersebut.\n",
        "\n",
        "\n",
        "\n",
        "```\n",
        "Keterangan:\n",
        "- bulatkan hasil penjualan menjadi bilangan bulat\n",
        "```\n",
        "\n"
      ],
      "metadata": {
        "id": "4TYZEg0NqZi2"
      }
    },
    {
      "cell_type": "code",
      "source": [
        "# gunakan variabel dari soal 2A\n",
        "\n",
        "# hitung dan tampilkan rata-rata penjualan bulan 1\n",
        "...\n",
        "\n",
        "# hitung dan tampilkan rata-rata penjualan bulan 2\n",
        "...\n",
        "\n",
        "# hitung dan tampilkan rata-rata penjualan bulan 3\n",
        "..."
      ],
      "metadata": {
        "colab": {
          "base_uri": "https://localhost:8080/"
        },
        "id": "pv6Uv71pqpmq",
        "outputId": "5ecf79dc-91b5-4759-9ba2-c318e31eab6f"
      },
      "execution_count": null,
      "outputs": [
        {
          "output_type": "stream",
          "name": "stdout",
          "text": [
            "Rata-rata penjualan bulan 1 adalah 41 produk \n",
            "Rata-rata penjualan bulan 2 adalah 47 produk \n",
            "Rata-rata penjualan bulan 3 adalah 46 produk \n"
          ]
        }
      ]
    },
    {
      "cell_type": "markdown",
      "source": [
        "#### **2C**"
      ],
      "metadata": {
        "id": "cdgylz0NvZj5"
      }
    },
    {
      "cell_type": "markdown",
      "source": [
        "Cari rata-rata penjualan setiap produk selama tiga bulan. Gunakan variabel tuple dari soal 2A.\n",
        "\n",
        "\n",
        "\n",
        "```\n",
        "Keterangan:\n",
        " - untuk akses tuple of tuple gunakan indeks ganda\n",
        " - misalkan ada tuple my_tupe = ((1, 2, 3), (4, 5, 6))\n",
        " - misalkan ambil angka 2\n",
        "    - my_tuple[0][1]\n",
        " - indexing pertama untuk mengambil index tuple terluar\n",
        " - indexing kedua untuk mengambil nilai yang ada di dalam\n",
        "\n",
        "```\n",
        "\n"
      ],
      "metadata": {
        "id": "RnWzGTq_0VNR"
      }
    },
    {
      "cell_type": "code",
      "source": [
        "# Gunakan variabel yang sudah didefinisikan pada soal 2A\n",
        "\n",
        "# hitung dan print rata-rata penjualan produk 1 selama tiga bulan\n",
        "...\n",
        "\n",
        "# hitung dan print rata-rata penjualan produk 2 selama tiga bulan\n",
        "...\n",
        "\n",
        "# hitung dan print rata-rata penjualan produk 3 selama tiga bulan\n",
        "..."
      ],
      "metadata": {
        "colab": {
          "base_uri": "https://localhost:8080/"
        },
        "id": "6Oz9B679qJ1X",
        "outputId": "b6700fae-f6b8-4e77-bd0d-c90a5b6379cf"
      },
      "execution_count": null,
      "outputs": [
        {
          "output_type": "stream",
          "name": "stdout",
          "text": [
            "Rata-rata penjualan produk 1 selama tiga bulan = 44 produk\n",
            "Rata-rata penjualan produk 2 selama tiga bulan = 48 produk\n",
            "Rata-rata penjualan produk 3 selama tiga bulan = 42 produk\n"
          ]
        }
      ]
    },
    {
      "cell_type": "markdown",
      "source": [
        "### **3**"
      ],
      "metadata": {
        "id": "I5JnKECl2dw7"
      }
    },
    {
      "cell_type": "markdown",
      "source": [
        "Lembaga scouting dari sebuah club sepak bola sedang mencari talent muda untuk club mereka. Ada 5 pemain yang masuk incaran, data pemain tersebut sebagai berikut.\n",
        "\n",
        "|Nama Pemain|Fisik|Mental|Teknik|Menyerang|Bertahan|Posisi|\n",
        "|-|-|-|-|-|-|-|\n",
        "|Erling Haaland|89|90|75|95|60|Striker\n",
        "|Christopher Nkunku|76|78|80|82|65|Sayap Kiri\n",
        "|Rafael Leao|86|83|85|90|55|Sayap Kiri\n",
        "|Kevin De Bruyne|82|80|89|88|68|Gelandang Serang\n",
        "|Vinicius Junior|85|80|85|90|55|Sayap Kiri\n",
        "\n",
        "\n"
      ],
      "metadata": {
        "id": "Rtey2MJbJpoF"
      }
    },
    {
      "cell_type": "markdown",
      "source": [
        "#### **3A**"
      ],
      "metadata": {
        "id": "xyOAc0Op_e5_"
      }
    },
    {
      "cell_type": "markdown",
      "source": [
        "Buatlah sebuah dictionary untuk menyimpan data pemain berikut\n"
      ],
      "metadata": {
        "id": "xJKzqdYS_lj5"
      }
    },
    {
      "cell_type": "code",
      "source": [
        "# definisikan sebuah dictionary\n",
        "...\n",
        "# print dictionary tersebut\n",
        "..."
      ],
      "metadata": {
        "colab": {
          "base_uri": "https://localhost:8080/"
        },
        "id": "ktbNiVXy1Ts5",
        "outputId": "dc1f569d-16a1-4d64-a8da-6d6983e6c837"
      },
      "execution_count": null,
      "outputs": [
        {
          "output_type": "stream",
          "name": "stdout",
          "text": [
            "{'Erling Haaland': {'Fisik': 89, 'Mental': 90, 'Teknik': 75, 'Menyerang': 95, 'Bertahan': 60, 'Posisi': 'Striker'}, 'Christopher Nkunku': {'Fisik': 76, 'Mental': 78, 'Teknik': 80, 'Menyerang': 82, 'Bertahan': 65, 'Posisi': 'Sayap Kiri'}, 'Rafael Leao': {'Fisik': 86, 'Mental': 83, 'Teknik': 85, 'Menyerang': 90, 'Bertahan': 55, 'Posisi': 'Sayap Kiri'}, 'Kevin De Bruyne': {'Fisik': 82, 'Mental': 80, 'Teknik': 89, 'Menyerang': 88, 'Bertahan': 68, 'Posisi': 'Gelandang Serang'}, 'Vinicius Junior': {'Fisik': 85, 'Mental': 80, 'Teknik': 85, 'Menyerang': 90, 'Bertahan': 55, 'Posisi': 'Gelandang Serang'}}\n"
          ]
        }
      ]
    },
    {
      "cell_type": "markdown",
      "source": [
        "#### **3B**"
      ],
      "metadata": {
        "id": "72-11WVACAVn"
      }
    },
    {
      "cell_type": "markdown",
      "source": [
        "Hitunglah rata-rata kemampuan masing-masing pemain.\n",
        "\n",
        "\n",
        "```\n",
        "Keterangan\n",
        " - Untuk akses kemampuan pemain gunakan nama_dict[Nama_pemain][kemampuan]\n",
        "```\n",
        "\n"
      ],
      "metadata": {
        "id": "ZzY7yRjaCGr9"
      }
    },
    {
      "cell_type": "code",
      "source": [
        "# hitung dan print rata-rata kemampuan Erling Haaland\n",
        "...\n",
        "\n",
        "# hitung dan print rata-rata kemampuan Christopher Nkunku\n",
        "...\n",
        "\n",
        "# hitung dan print rata-rata kemampuan Rafael Leao\n",
        "...\n",
        "\n",
        "# hitung dan print rata-rata kemampuan Kevin De Bruyne\n",
        "...\n",
        "\n",
        "# hitung dan print rata-rata kemampuan Vinicius Junior\n",
        "..."
      ],
      "metadata": {
        "colab": {
          "base_uri": "https://localhost:8080/"
        },
        "id": "16IDYK19_4oK",
        "outputId": "dbaca5ad-0d69-40eb-8ff8-a569f5cd4c43"
      },
      "execution_count": null,
      "outputs": [
        {
          "output_type": "stream",
          "name": "stdout",
          "text": [
            "Rata-rata Erling Haaland = 81.8\n",
            "Rata-rata Christopher Nkunku = 76.2\n",
            "Rata-rata Rafael Leao = 79.8\n",
            "Rata-rata Kevin De Bruyne = 81.4\n",
            "Rata-rata Vinicius Junior = 79.0\n"
          ]
        }
      ]
    },
    {
      "cell_type": "markdown",
      "source": [
        "#### **3C**"
      ],
      "metadata": {
        "id": "mJ-wlWqxEyLZ"
      }
    },
    {
      "cell_type": "markdown",
      "source": [
        "Jika dilihat dari rata-rata kemampuan pemain, Christopher Nkunku dan Vinicius Junior merupakan dua yang terendah. Hapus Nkunku dan Vinicius dari dictionary pemain.\n",
        "\n",
        "\n",
        "```\n",
        "Keterangan:\n",
        " - gunakan method pop()\n",
        "```\n",
        "\n"
      ],
      "metadata": {
        "id": "U_bGCO3jE4Fe"
      }
    },
    {
      "cell_type": "code",
      "source": [
        "# hapus nkunku dari dictionary pemain\n",
        "...\n",
        "\n",
        "# hapus vinicius dari distionary pemain\n",
        "...\n",
        "\n",
        "#  tampilkan dictionary pemain yang baru\n",
        "..."
      ],
      "metadata": {
        "colab": {
          "base_uri": "https://localhost:8080/"
        },
        "id": "aou2IJtYH2pZ",
        "outputId": "c40e6cb1-fdcc-4e2b-8f80-fe28d6436406"
      },
      "execution_count": null,
      "outputs": [
        {
          "output_type": "stream",
          "name": "stdout",
          "text": [
            "{'Erling Haaland': {'Fisik': 89, 'Mental': 90, 'Teknik': 75, 'Menyerang': 95, 'Bertahan': 60, 'Posisi': 'Striker'}, 'Rafael Leao': {'Fisik': 86, 'Mental': 83, 'Teknik': 85, 'Menyerang': 90, 'Bertahan': 55, 'Posisi': 'Sayap Kiri'}, 'Kevin De Bruyne': {'Fisik': 82, 'Mental': 80, 'Teknik': 89, 'Menyerang': 88, 'Bertahan': 68, 'Posisi': 'Gelandang Serang'}}\n"
          ]
        }
      ]
    },
    {
      "cell_type": "markdown",
      "source": [
        "#### **3D**"
      ],
      "metadata": {
        "id": "UIV8ip6tKRYJ"
      }
    },
    {
      "cell_type": "markdown",
      "source": [
        "Tersisa tiga pemain yaitu, Erling Haaland, Rafael Leao dan Kevin De Bruyne.\n",
        "Jika tim scouting sepak bola tersebut sedang mencari penyerang dengan kemampuan **menyerang** terbaik maka siapakah yang akan di ambil ?\n",
        "\n",
        "\n",
        "```\n",
        "Keterangan: \n",
        "- struktur list\n",
        "  - [[kemampuan_menyerang, nama_pemain], ...]\n",
        "- gunakan method max()\n",
        "```\n",
        "\n"
      ],
      "metadata": {
        "id": "ETgDZpdiKWpJ"
      }
    },
    {
      "cell_type": "code",
      "source": [
        "# buatlah sebuah list dahulu yang menampung kemampuan menyerang tiap pemain\n",
        "# gunakan variabel dari 3A\n",
        "...\n",
        "\n",
        "# kemudian cari dan print pemain dengan kemampuan menyerang terbaik\n",
        "..."
      ],
      "metadata": {
        "colab": {
          "base_uri": "https://localhost:8080/"
        },
        "id": "GLdk-eJeKU_-",
        "outputId": "191613a4-92ba-4146-b638-ad320ed9ee0e"
      },
      "execution_count": null,
      "outputs": [
        {
          "output_type": "stream",
          "name": "stdout",
          "text": [
            "Pemain dengan kemampuan menyerang terbaik = [95, 'Erling Haaland']\n"
          ]
        }
      ]
    },
    {
      "cell_type": "markdown",
      "source": [
        "###**4**"
      ],
      "metadata": {
        "id": "rPHUvQ2JPuqF"
      }
    },
    {
      "cell_type": "markdown",
      "source": [
        "Pak Banu dan Pak Rozi akan bekerja sama dalam berjualan toko buah. Sebelumnya mereka juga sudah mempunyai toko buah, namun karena alasan tertentu mereka memutuskan untuk bekerja sama. Data buah yag di jual Pak Banu dan Pak Rozi adalah sebagai berikut\n",
        "\n",
        "```\n",
        "Pak Banu = Jeruk, Apel, Semangka, Rambutan, Pepaya, Kelengkeng, Alpukat, Sirsat\n",
        "Pak Rozi = Pisang, Melon, Salak, Mangga, Jeruk, Pepaya, Kelengkeng, Srikaya\n",
        "```\n",
        "\n",
        "\n",
        "\n"
      ],
      "metadata": {
        "id": "vuwXxynIPv81"
      }
    },
    {
      "cell_type": "markdown",
      "source": [
        "#### **4A**"
      ],
      "metadata": {
        "id": "iyOFtQvJUH0h"
      }
    },
    {
      "cell_type": "markdown",
      "source": [
        "Buatlah sebuah set untuk menampung buah yang di jual oleh masing-masing penjual"
      ],
      "metadata": {
        "id": "MkbsvVhIUmDK"
      }
    },
    {
      "cell_type": "code",
      "source": [
        "# definisikan sebuah set untuk pak banu\n",
        "...\n",
        "\n",
        "# definisikan sebuah set untuk pak rozi\n",
        "...\n",
        "\n",
        "# print masing-masing set tersebut\n",
        "..."
      ],
      "metadata": {
        "colab": {
          "base_uri": "https://localhost:8080/"
        },
        "id": "bVIsXWiEPvie",
        "outputId": "a31a4345-d101-41ae-f79c-0569112b11ef"
      },
      "execution_count": null,
      "outputs": [
        {
          "output_type": "stream",
          "name": "stdout",
          "text": [
            "{'Rambutan', 'Alpukat', 'Jeruk', 'Kelengkeng', 'Sirsat', 'Apel', 'Pepaya', 'Semangka'}\n",
            "{'Salak', 'Melon', 'Jeruk', 'Kelengkeng', 'Srikaya', 'Pisang', 'Pepaya', 'Mangga'}\n"
          ]
        }
      ]
    },
    {
      "cell_type": "markdown",
      "source": [
        "#### **4B**\n",
        "\n",
        "Gabungkan buah yang dijual Pak Banu dan Pak Rozi\n",
        "\n",
        "\n",
        "```\n",
        "Keterangan:\n",
        "- gunakan method union()\n",
        "```\n",
        "\n"
      ],
      "metadata": {
        "id": "2k3GyNEEXA_a"
      }
    },
    {
      "cell_type": "code",
      "source": [
        "# definisikan variabel dan gabungkan buah yang dijual\n",
        "...\n",
        "\n",
        "# tampilkan gabungan buah yang dijual\n",
        "..."
      ],
      "metadata": {
        "colab": {
          "base_uri": "https://localhost:8080/"
        },
        "id": "fObiZqrNW5A_",
        "outputId": "2e54e008-9059-4bd2-9d16-2ac899735943"
      },
      "execution_count": null,
      "outputs": [
        {
          "output_type": "stream",
          "name": "stdout",
          "text": [
            "Gabungan buah yang dijual Pak Banu dan Pak Rozi : {'Salak', 'Rambutan', 'Melon', 'Alpukat', 'Jeruk', 'Kelengkeng', 'Sirsat', 'Srikaya', 'Apel', 'Pisang', 'Pepaya', 'Semangka', 'Mangga'}\n"
          ]
        }
      ]
    },
    {
      "cell_type": "markdown",
      "source": [
        "#### **4C**"
      ],
      "metadata": {
        "id": "UuJ4353BVAvM"
      }
    },
    {
      "cell_type": "markdown",
      "source": [
        "Untuk mempermudah stok ulang buah carilah buah yang sebelumnya sama-sama dijual oleh Pak Banu dan Pak Rozi\n",
        "\n",
        "```\n",
        "Keterangan:\n",
        "- gunakan method intersection()\n",
        "```"
      ],
      "metadata": {
        "id": "O2YZDQ4uVgUl"
      }
    },
    {
      "cell_type": "code",
      "source": [
        "# defisinikan variabel dan cari persamaan buah yang dijual\n",
        "...\n",
        "\n",
        "# tampilkan buah yang sama antara Pak Banu dan Pak Rozi\n",
        "..."
      ],
      "metadata": {
        "colab": {
          "base_uri": "https://localhost:8080/"
        },
        "id": "N6G01KdDVCsR",
        "outputId": "a98b5545-5ce1-42d2-a637-fd8530fa6ff8"
      },
      "execution_count": null,
      "outputs": [
        {
          "output_type": "stream",
          "name": "stdout",
          "text": [
            "Persamaan buah yang di jual Pak Banu dan Pak Rozi adalah : {'Jeruk', 'Pepaya', 'Kelengkeng'}\n"
          ]
        }
      ]
    },
    {
      "cell_type": "markdown",
      "source": [
        "# **Looping**"
      ],
      "metadata": {
        "id": "kdDcY_4MJsID"
      }
    },
    {
      "cell_type": "markdown",
      "source": [
        "### **1**\n"
      ],
      "metadata": {
        "id": "fA4ezN8DzEKY"
      }
    },
    {
      "cell_type": "markdown",
      "source": [
        "Pada sebuah puskesmas sedang mengadakan vaksinasi dan memberikan nomor antrian sepanjang 200 orang kepada masyarakat yang ingin vaksin. Untuk **mempercepat** proses vaksinasi puskesmas tersebut **membagi** menjadi empat antrian."
      ],
      "metadata": {
        "id": "D4b8fUcx02Dr"
      }
    },
    {
      "cell_type": "markdown",
      "source": [
        "#### **1A**"
      ],
      "metadata": {
        "id": "v5PXRZr52D6-"
      }
    },
    {
      "cell_type": "markdown",
      "source": [
        "Untuk nomor antrian kurang dari 100 dibagi berdasarkan bilangan genap dan ganjil. Buatlah urutan bilangan genap dan ganjil menggunakan for loop."
      ],
      "metadata": {
        "id": "kUqdZJm72cdp"
      }
    },
    {
      "cell_type": "code",
      "source": [
        "# buat dua empty list untuk menampung deret ganjil dan genap\n",
        "...\n",
        "\n",
        "# cari bilangan ganjil dan genap dengan for loop dan if else\n",
        "# gunakan append untuk menambahkan bilangan ke list\n",
        "...\n",
        "\n",
        "# print kedua deret tersebut\n",
        "..."
      ],
      "metadata": {
        "colab": {
          "base_uri": "https://localhost:8080/"
        },
        "id": "wzUc8INjylqu",
        "outputId": "f5f40d13-ccb5-44dc-c9da-7eac665d446b"
      },
      "execution_count": null,
      "outputs": [
        {
          "output_type": "stream",
          "name": "stdout",
          "text": [
            "[2, 4, 6, 8, 10, 12, 14, 16, 18, 20, 22, 24, 26, 28, 30, 32, 34, 36, 38, 40, 42, 44, 46, 48, 50, 52, 54, 56, 58, 60, 62, 64, 66, 68, 70, 72, 74, 76, 78, 80, 82, 84, 86, 88, 90, 92, 94, 96, 98, 100]\n",
            "[1, 3, 5, 7, 9, 11, 13, 15, 17, 19, 21, 23, 25, 27, 29, 31, 33, 35, 37, 39, 41, 43, 45, 47, 49, 51, 53, 55, 57, 59, 61, 63, 65, 67, 69, 71, 73, 75, 77, 79, 81, 83, 85, 87, 89, 91, 93, 95, 97, 99]\n"
          ]
        }
      ]
    },
    {
      "cell_type": "markdown",
      "source": [
        "#### **1B**"
      ],
      "metadata": {
        "id": "F7ObcNdX368E"
      }
    },
    {
      "cell_type": "markdown",
      "source": [
        "Untuk nomor urut 101 sampai 200 dibagi berdasarkan nomor urut\n",
        " \n",
        " - `Nomor 101 - 125 dan 151 - 175`\n",
        " - `Nomor 126 - 150 dan 175 - 200`\n",
        "\n",
        "Buatlah deret yang menampung dua kondisi tersebut"
      ],
      "metadata": {
        "id": "CGU_AqR-4fSq"
      }
    },
    {
      "cell_type": "code",
      "source": [
        "# definisikan dua list untuk menampung dua kondisi pada soal\n",
        "...\n",
        "\n",
        "# cari deret bilangan dengan for loop dan if else\n",
        "# gunakan append untuk menambahkan bilangan ke list\n",
        "...\n",
        "  \n",
        "# print kedua deret tersebut\n",
        "..."
      ],
      "metadata": {
        "colab": {
          "base_uri": "https://localhost:8080/"
        },
        "id": "V5wcbJfF3Cwt",
        "outputId": "abcbce84-b9f8-4579-e75b-3fb19e590a1a"
      },
      "execution_count": null,
      "outputs": [
        {
          "output_type": "stream",
          "name": "stdout",
          "text": [
            "[101, 102, 103, 104, 105, 106, 107, 108, 109, 110, 111, 112, 113, 114, 115, 116, 117, 118, 119, 120, 121, 122, 123, 124, 125, 151, 152, 153, 154, 155, 156, 157, 158, 159, 160, 161, 162, 163, 164, 165, 166, 167, 168, 169, 170, 171, 172, 173, 174, 175]\n",
            "[126, 127, 128, 129, 130, 131, 132, 133, 134, 135, 136, 137, 138, 139, 140, 141, 142, 143, 144, 145, 146, 147, 148, 149, 150, 176, 177, 178, 179, 180, 181, 182, 183, 184, 185, 186, 187, 188, 189, 190, 191, 192, 193, 194, 195, 196, 197, 198, 199, 200]\n"
          ]
        }
      ]
    },
    {
      "cell_type": "markdown",
      "source": [
        "### **2**"
      ],
      "metadata": {
        "id": "XRJebMlN8V5T"
      }
    },
    {
      "cell_type": "markdown",
      "source": [
        "Armada Angkutan Bus Setya Jaya mengeluh karena ada kenaikan harga BBM. Tarif angkutan sebelum kenaikan BBM bisa dilihat pada tabel biaya perjalanan dibawah\n",
        "\n",
        "|Jurusan | Biaya per Orang | Biaya Pelajar|\n",
        "|-|-|-|\n",
        "|Terminal A ke Terminal B | 5.000| 2.500|\n",
        "|Terminal A ke Terminal C | 10.000 | 4.000|\n",
        "|Terminal A ke Terminal D | 15.000 | 7.000|\n",
        "\n",
        "\n",
        "Untuk mengimbangi pengeluaran dan pendapatan para pengusaha angkutan sepakat untuk menaikkan harga."
      ],
      "metadata": {
        "id": "jaFK0GTI8o9m"
      }
    },
    {
      "cell_type": "markdown",
      "source": [
        "#### **2A**"
      ],
      "metadata": {
        "id": "Wm1esLHKA3lo"
      }
    },
    {
      "cell_type": "markdown",
      "source": [
        "Buatlah list yang menampung biaya per orang dan biaya pelajar"
      ],
      "metadata": {
        "id": "4gBdET50A8cQ"
      }
    },
    {
      "cell_type": "code",
      "source": [
        "# definisikan dua list yang menampung biaya per orang dan biaya pelajar\n",
        "...\n",
        "\n",
        "# print kedua list tersebut\n",
        "..."
      ],
      "metadata": {
        "colab": {
          "base_uri": "https://localhost:8080/"
        },
        "id": "Qj0ThSIz8Xpi",
        "outputId": "7644bc6f-c41e-40cc-c5b0-17aad474fa3e"
      },
      "execution_count": null,
      "outputs": [
        {
          "output_type": "stream",
          "name": "stdout",
          "text": [
            "[5000, 10000, 15000]\n",
            "[2500, 4000, 7000]\n"
          ]
        }
      ]
    },
    {
      "cell_type": "markdown",
      "source": [
        "#### **2B**"
      ],
      "metadata": {
        "id": "sqXc_PqmClXF"
      }
    },
    {
      "cell_type": "markdown",
      "source": [
        "Jika **biaya per orang** naik 5.000 rupiah pada semua jurusan terminal, berapa tarif per orang sekarang. Hitung dengan menggunakan **while loop**"
      ],
      "metadata": {
        "id": "h9C6J_7GCqFG"
      }
    },
    {
      "cell_type": "code",
      "source": [
        "# gunakan list yang sudah didefinisikan dari soal 2A\n",
        "\n",
        "# buat variabel untuk menghentikan while\n",
        "...\n",
        "\n",
        "# hitung tarif baru dengan while\n",
        "...\n",
        "\n",
        "# tampilkan list tarif penumpang yang baru\n",
        "..."
      ],
      "metadata": {
        "colab": {
          "base_uri": "https://localhost:8080/"
        },
        "id": "csc-cDcQCWFe",
        "outputId": "eaea0e0e-1f26-4e2f-dfcf-e3c500969b54"
      },
      "execution_count": null,
      "outputs": [
        {
          "output_type": "stream",
          "name": "stdout",
          "text": [
            "tarif penumpang yang baru = [10000, 15000, 20000]\n"
          ]
        }
      ]
    },
    {
      "cell_type": "markdown",
      "source": [
        "#### **2C**"
      ],
      "metadata": {
        "id": "p1AOW5F4Fxa4"
      }
    },
    {
      "cell_type": "markdown",
      "source": [
        "Jika tarif penumpang **Pelajar** naik 2.000 rupiah pada semua jurusan terminal, berapa tarif pelajar sekarang ? Hitung menggunakan while loop"
      ],
      "metadata": {
        "id": "h1GAb2P2Fxa8"
      }
    },
    {
      "cell_type": "code",
      "source": [
        "# gunakan list yang sudah didefinisikan dari soal 2A\n",
        "\n",
        "# buat variabel untuk menghentikan while\n",
        "...\n",
        "\n",
        "# hitung tarif baru dengan while\n",
        "...\n",
        "\n",
        "# tampilkan list tarif penumpang pelajar yang baru\n",
        "..."
      ],
      "metadata": {
        "colab": {
          "base_uri": "https://localhost:8080/"
        },
        "outputId": "5e699069-c3d2-4c46-9905-c5d92dbc771b",
        "id": "1JFfBX6GFxa9"
      },
      "execution_count": null,
      "outputs": [
        {
          "output_type": "stream",
          "name": "stdout",
          "text": [
            "tarif penumpang pelajar yang baru = [4500, 6000, 9000]\n"
          ]
        }
      ]
    },
    {
      "cell_type": "markdown",
      "source": [
        "### **3**"
      ],
      "metadata": {
        "id": "54_VDRUGHfhk"
      }
    },
    {
      "cell_type": "markdown",
      "source": [
        "Lembaga scouting dari sebuah club sepak bola sedang mencari talent muda berbakat untuk club mereka. Ada 5 pemain yang masuk incaran, data pemain tersebut sebagai berikut.\n",
        "\n",
        "|Nama Pemain|Fisik|Mental|Teknik|Menyerang|Bertahan|\n",
        "|-|-|-|-|-|-|\n",
        "|Erling Haaland|89|90|75|95|60|\n",
        "|Christopher Nkunku|76|78|80|82|65|\n",
        "|Rafael Leao|86|83|85|90|55|\n",
        "|Kevin De Bruyne|82|80|89|88|68|\n",
        "|Vinicius Junior|85|80|85|90|55|"
      ],
      "metadata": {
        "id": "Ak1n2S0XPvJ2"
      }
    },
    {
      "cell_type": "markdown",
      "source": [
        "#### **3A**"
      ],
      "metadata": {
        "id": "dm-2ZFB0P4Te"
      }
    },
    {
      "cell_type": "markdown",
      "source": [
        "Buatlah dictionary untuk menyimpan data pemain berikut\n",
        "\n",
        "\n",
        "```\n",
        "Keterangan:\n",
        "- Struktur dictionary\n",
        "  - dict = {nama_pemain:{kemampuan_1:nilai, kemampuan_2:nilai, ...}, ...}\n",
        "```\n",
        "\n"
      ],
      "metadata": {
        "id": "9UvlymTzQU1s"
      }
    },
    {
      "cell_type": "code",
      "source": [
        "# definisikan sebuah dictionary\n",
        "...\n",
        "# print dictionary tersebut\n",
        "..."
      ],
      "metadata": {
        "colab": {
          "base_uri": "https://localhost:8080/"
        },
        "id": "FSfv5J6VPt6A",
        "outputId": "46b4a00c-5cd9-4eb8-fa66-bfeba5ecaf35"
      },
      "execution_count": null,
      "outputs": [
        {
          "output_type": "stream",
          "name": "stdout",
          "text": [
            "{'Erling Haaland': {'Fisik': 89, 'Mental': 90, 'Teknik': 75, 'Menyerang': 95, 'Bertahan': 60}, 'Christopher Nkunku': {'Fisik': 76, 'Mental': 78, 'Teknik': 80, 'Menyerang': 82, 'Bertahan': 65}, 'Rafael Leao': {'Fisik': 86, 'Mental': 83, 'Teknik': 85, 'Menyerang': 90, 'Bertahan': 55}, 'Kevin De Bruyne': {'Fisik': 82, 'Mental': 80, 'Teknik': 89, 'Menyerang': 88, 'Bertahan': 68}, 'Vinicius Junior': {'Fisik': 85, 'Mental': 80, 'Teknik': 85, 'Menyerang': 90, 'Bertahan': 55}}\n"
          ]
        }
      ]
    },
    {
      "cell_type": "markdown",
      "source": [
        "#### **3B**"
      ],
      "metadata": {
        "id": "IDMvCJF6RMJ-"
      }
    },
    {
      "cell_type": "markdown",
      "source": [
        "Club membutuhkan pemain bola dengan mental yang bagus. Jika ada pemain dengan **mental** lebih kecil dari **80** keluarkan dari data scouting."
      ],
      "metadata": {
        "id": "WQmY9KVuRP0Z"
      }
    },
    {
      "cell_type": "code",
      "source": [
        "# untuk menghindari eror pada saat loop, gunakan method copy untuk menyalin dictionary pada variabel yang baru\n",
        "# buat nama variabel dahulu kemudian copy dictionary yang sudah dibuat sebelumnya\n",
        "...\n",
        "\n",
        "# gunakan for dan if else untuk menyeleksi pemain\n",
        "# jika pemain masuk memenuhi syarat pakai \"continue\"\n",
        "# jika tidak memenuhi syarat, langsung keluarkan dari dict, pakai method pop()\n",
        "...\n",
        "\n",
        "# gunakan list comprehension untuk menampilkan pemain yang tersisa\n",
        "# buat variabel baru dahulu untuk menyimpan hasil list comprehension\n",
        "..."
      ],
      "metadata": {
        "colab": {
          "base_uri": "https://localhost:8080/"
        },
        "id": "-2M-QJjiRJ0l",
        "outputId": "7f7f6603-7852-4d30-ef88-4e5401223e94"
      },
      "execution_count": null,
      "outputs": [
        {
          "output_type": "stream",
          "name": "stdout",
          "text": [
            "Christopher Nkunku dikeluarkan dari data scouting karena tidak memenuhi syarat\n",
            "Pemain yang tersisa ['Erling Haaland', 'Rafael Leao', 'Kevin De Bruyne', 'Vinicius Junior']\n"
          ]
        }
      ]
    },
    {
      "cell_type": "markdown",
      "source": [
        "#### **3C**\n"
      ],
      "metadata": {
        "id": "5DPBJvSLUZOs"
      }
    },
    {
      "cell_type": "markdown",
      "source": [
        "Pengamat Sepak Bola menyarankan untuk langsung mengambil pemain dengan kemampuan **menyerang** lebih dari **92**. Namun pihak scouting masih mempertimbangkan hal lain. Untuk itu pihak scouting hanya akan melihat adakah pemain dengan kemampuan lebih dari **92**."
      ],
      "metadata": {
        "id": "dER7vHsRUvGA"
      }
    },
    {
      "cell_type": "code",
      "source": [
        "# gunakan cara yang sama agar saat loop dictionary tidak eror yaitu menyalin dictionary ke variabel baru\n",
        "# bedakan nama variabel copy dengan yang sebelumnya\n",
        "...\n",
        "\n",
        "# pakai for loop dan if else untuk mencari pemain dengan kemampuan menyerang lebih dari 92\n",
        "# pakai pass jika menemukan pemain dengan kondisi tersebut\n",
        "...\n",
        "    "
      ],
      "metadata": {
        "colab": {
          "base_uri": "https://localhost:8080/"
        },
        "id": "VyilZ6EPTP7A",
        "outputId": "6232a1c8-2313-4141-a72d-20fd92e3d3d0"
      },
      "execution_count": null,
      "outputs": [
        {
          "output_type": "stream",
          "name": "stdout",
          "text": [
            "Pemain dengan kemampuan menyerang lebih dari sama dengan 92 : Erling Haaland\n"
          ]
        }
      ]
    },
    {
      "cell_type": "markdown",
      "source": [
        "#### **3D**"
      ],
      "metadata": {
        "id": "eecLLhoycOUG"
      }
    },
    {
      "cell_type": "markdown",
      "source": [
        "Pelatih membutuhkan pemain dengan **teknik** lebih dari **85** dan **fisik** lebih dari sama dengan **84**.\n",
        "Jika ada pemain yang tidak memenuhi syarat tersebut langsung keluarkan dari data scouting."
      ],
      "metadata": {
        "id": "Acfj1CLpcRL8"
      }
    },
    {
      "cell_type": "code",
      "source": [
        "# gunakan cara yang sama agar saat loop dictionary tidak eror yaitu menyalin dictionary ke variabel baru\n",
        "# bedakan nama variabel copy dengan yang lain\n",
        "...\n",
        "\n",
        "# gunakan for dan if else untuk menyeleksi pemain\n",
        "# jika pemain masuk memenuhi syarat pakai \"continue\"\n",
        "# jika tidak memenuhi syarat, langsung keluarkan dari dict, pakai method pop()\n",
        "...\n"
      ],
      "metadata": {
        "colab": {
          "base_uri": "https://localhost:8080/"
        },
        "id": "bX6aVKcLYZkp",
        "outputId": "82abaeeb-9543-451f-bfc9-5a31d80d6397"
      },
      "execution_count": null,
      "outputs": [
        {
          "output_type": "stream",
          "name": "stdout",
          "text": [
            "Erling Haaland dikeluarkan dari data scouting karena tidak memenuhi syarat\n",
            "Kevin De Bruyne dikeluarkan dari data scouting karena tidak memenuhi syarat\n"
          ]
        }
      ]
    },
    {
      "cell_type": "markdown",
      "source": [
        "**4E**\n",
        "\n",
        "Masih tersisa dua pemain yaitu Rafael Leao dan Vinicius Junior. Uang kas klub hanya bisa digunakan untuk membeli satu pemain saja, untuk itu cari pemain dengan rata-rata kemampuan paling tinggi dari kedua pemain tersebut"
      ],
      "metadata": {
        "id": "5i1tSt98f4XB"
      }
    },
    {
      "cell_type": "code",
      "source": [
        "# gunakan cara yang sama agar saat loop dictionary tidak eror yaitu menyalin dictionary ke variabel baru\n",
        "# bedakan nama variabel copy dengan yang lain\n",
        "...\n",
        "\n",
        "# definisikan variabel untuk menampung rata-rata\n",
        "...\n",
        "\n",
        "# gunakan for untuk menyeleksi pemain\n",
        "# didalam for yang pertama, definisikan variabel jumlah untuk menampung jumlah total kemampuan pemain\n",
        "# anda bisa memakai method keys atau cara lain pada for yang kedua jika anda pakai nested-for\n",
        "..."
      ],
      "metadata": {
        "colab": {
          "base_uri": "https://localhost:8080/"
        },
        "id": "bFgaTu4oeT0g",
        "outputId": "e5bd9951-2dab-4841-f9ce-9f4c22336804"
      },
      "execution_count": null,
      "outputs": [
        {
          "output_type": "stream",
          "name": "stdout",
          "text": [
            "Kemampuan Rata-rata Rafael Leao adalah 79.8\n",
            "Kemampuan Rata-rata Vinicius Junior adalah 79.0\n"
          ]
        }
      ]
    },
    {
      "cell_type": "markdown",
      "source": [
        "### **4**"
      ],
      "metadata": {
        "id": "eLqmKGUTkveB"
      }
    },
    {
      "cell_type": "markdown",
      "source": [
        "Bu Surti akan berbelanja di swalayan dengan Bu Mima dan Bu Rani\n",
        "\n",
        "\n",
        "```\n",
        "belanjaan ibu surti = 20.000, 80.000, 40.000, 150.500\n",
        "belanjaan ibu mima = 31.000, 43.000, 65.000, 105.000\n",
        "belanjaan ibu rani = 12.000, 200.000, 61.000, 10.000\n",
        "```"
      ],
      "metadata": {
        "id": "RJGdlI9vmFvW"
      }
    },
    {
      "cell_type": "markdown",
      "source": [
        "#### **4A**"
      ],
      "metadata": {
        "id": "2Yghu7iwwpL5"
      }
    },
    {
      "cell_type": "markdown",
      "source": [
        "Buatlah list untuk menampung harga belanja masing-masing ibu tersebut"
      ],
      "metadata": {
        "id": "wTBRv89lwt8b"
      }
    },
    {
      "cell_type": "code",
      "source": [
        "# buat tiga list untuk menampung list harga belanjaan\n",
        "..."
      ],
      "metadata": {
        "id": "vOQ5X4edigNB"
      },
      "execution_count": null,
      "outputs": []
    },
    {
      "cell_type": "markdown",
      "source": [
        "#### **4B**"
      ],
      "metadata": {
        "id": "_6B6Dkhc3pw6"
      }
    },
    {
      "cell_type": "markdown",
      "source": [
        "Cari total dari belanjaan masing-masing ibu dengan list comprehension, jika ada harga yang lebih dari 50.000 diskon 5%"
      ],
      "metadata": {
        "id": "gMVvVGPwxcv7"
      }
    },
    {
      "cell_type": "code",
      "source": [
        "# Cari total belanja dengan list comprehension\n",
        "# HINT, Gunakan method sum()\n",
        "...\n",
        "\n",
        "# tampilkan masing-masing total belanjaan\n",
        "..."
      ],
      "metadata": {
        "colab": {
          "base_uri": "https://localhost:8080/"
        },
        "id": "ZWemdzqnv-4B",
        "outputId": "31415882-6e92-4032-d467-0c81ca72ef65"
      },
      "execution_count": null,
      "outputs": [
        {
          "output_type": "stream",
          "name": "stdout",
          "text": [
            "Total belanja Bu Surti = Rp 278975.0\n",
            "Total belanja Bu Mima = Rp 235500.0\n",
            "Total belanja Bu Rani = Rp 269950.0\n"
          ]
        }
      ]
    },
    {
      "cell_type": "markdown",
      "source": [
        "# **Function I**"
      ],
      "metadata": {
        "id": "4Y02S7plKkUU"
      }
    },
    {
      "cell_type": "markdown",
      "source": [
        "---\n",
        "## Case 1 : Waktu Mencuci Tangan\n",
        "Dianjurkan bagi seseorang untuk mencuci tangan sampai 21 detik secara menyeluruh agar tangan dapat dikatakan bersih dari kuman dan kotoran. \n",
        "\n",
        "Buatlah fungsi yang menerima input jumlah seseorang mencuci tangan dalam satu hari dan lama waktu orang tersebut mengikuti anjuran cuci tangan (dalam bulan). \n",
        "\n",
        "Hitung banyaknya waktu (dalam menit dan detik) yang dihabiskan orang tersebut untuk mencuci tangan.   \n",
        "\n",
        "- anggap 1 bulan == 30 hari\n",
        "\n",
        "```\n",
        "Contoh:\n",
        "Setelah mengetahui anjuran tersebut, selama 2 bulan terakhir Athaya mencuci tangan sesuai dengan anjuran sebanyak 6 kali dalam sehari\n",
        "\n",
        "input  \n",
        "6 kali dan 2 bulan\n",
        "\n",
        "ouput :\n",
        "Waktu total mencuci tangan adalah 126 menit dan 0 detik\n",
        "\n",
        "```"
      ],
      "metadata": {
        "id": "ehYTReXZc1CF"
      }
    },
    {
      "cell_type": "markdown",
      "source": [
        "### 1A.\n",
        "Buatlah fungsi tersebut!\n",
        "```\n",
        "Catatan tambahan:\n",
        "  - Gunakan paramater yang dapat menerima input jumlah cuci tangan dan jumlah bulan\n",
        "  - Gunakan return pada fungsi untuk mengembalikan output yang didapat\n",
        "```"
      ],
      "metadata": {
        "id": "a-gSYUKekwxa"
      }
    },
    {
      "cell_type": "code",
      "execution_count": null,
      "metadata": {
        "id": "3oqUIukHcsvy"
      },
      "outputs": [],
      "source": [
        "#membuat fungsi\n",
        "...\n"
      ]
    },
    {
      "cell_type": "markdown",
      "source": [
        "###1B.\n",
        "Panggil fungsi tersebut! Apabila,\n",
        "\n",
        "a. ) Selama 1 tahun 1 bulan terakhir Richard mencuci tangan sesuai dengan anjuran sebanyak 3 kali dalam sehari"
      ],
      "metadata": {
        "id": "-QPvm01Hl29s"
      }
    },
    {
      "cell_type": "code",
      "source": [
        "#memanggil fungsi \n",
        "..."
      ],
      "metadata": {
        "colab": {
          "base_uri": "https://localhost:8080/",
          "height": 35
        },
        "id": "tV7QRwS1jys0",
        "outputId": "b1781bab-c236-4910-e7d3-5b20fe3c8efe"
      },
      "execution_count": null,
      "outputs": [
        {
          "output_type": "execute_result",
          "data": {
            "text/plain": [
              "'Waktu total mencuci tangan adalah : 409 menit dan 30 detik'"
            ],
            "application/vnd.google.colaboratory.intrinsic+json": {
              "type": "string"
            }
          },
          "metadata": {},
          "execution_count": 2
        }
      ]
    },
    {
      "cell_type": "markdown",
      "source": [
        "b. ) Selama 3 bulan terakhir, Nabila mencuci tangan sesuai anjaran sebanyak 5 kali dalam sehari"
      ],
      "metadata": {
        "id": "bKZA713wme9A"
      }
    },
    {
      "cell_type": "code",
      "source": [
        "#memanggil fungsi \n",
        "..."
      ],
      "metadata": {
        "colab": {
          "base_uri": "https://localhost:8080/",
          "height": 35
        },
        "id": "zyMFtKCxm1uF",
        "outputId": "7db46f33-53f8-47c7-f3c6-41ff474106e5"
      },
      "execution_count": null,
      "outputs": [
        {
          "output_type": "execute_result",
          "data": {
            "text/plain": [
              "'Waktu total mencuci tangan adalah : 157 menit dan 30 detik'"
            ],
            "application/vnd.google.colaboratory.intrinsic+json": {
              "type": "string"
            }
          },
          "metadata": {},
          "execution_count": 14
        }
      ]
    },
    {
      "cell_type": "markdown",
      "source": [
        "---\n",
        "##Case 2 : Perkalian\n",
        "Buatlah fungsi yang menghasilkan list hasil perkalian! \n",
        "\n",
        "Sebagai contoh jika user meng-inputkan angka 7. Berarti fungsi akan menampilkan perkalian 7 x 1 sampai 7 x 10.\n",
        "\n",
        "```\n",
        "Contoh:\n",
        "input  \n",
        "7\n",
        "\n",
        "ouput :\n",
        "[7, 14, 21, 28, 35, 42, 49, 56, 63, 70]\n",
        "```\n"
      ],
      "metadata": {
        "id": "0aP4aP-anWaj"
      }
    },
    {
      "cell_type": "markdown",
      "source": [
        "###2A.\n",
        "Membuat fungsi **tabel perkalian**.\n",
        "```\n",
        "Catatan:\n",
        " - Parameter yang digunakan adalah angka dan panjang tabel perkalian\n",
        " - Karena panjang tabel perkalian hingga 10. Maka buatlah default value = 10\n",
        " - Gunakan return untuk mengembalikan nilai\n",
        " - Anda dapat menggunakan looping untuk mengembangkan fungsi\n",
        "```"
      ],
      "metadata": {
        "id": "ReXfAfIoo7nl"
      }
    },
    {
      "cell_type": "code",
      "source": [
        "#membuat fungsi tabel_perkalian\n",
        "..."
      ],
      "metadata": {
        "id": "lxUvIwGco6Zj"
      },
      "execution_count": null,
      "outputs": []
    },
    {
      "cell_type": "markdown",
      "source": [
        "###2B.\n",
        "Memanggil fungsi **tabel_perkalian** dengan:\n",
        "\n",
        "a.) Tampilkan tabel perkalian 7"
      ],
      "metadata": {
        "id": "h0K00pCTrMmJ"
      }
    },
    {
      "cell_type": "code",
      "source": [
        "#memanggil fungsi\n",
        "..."
      ],
      "metadata": {
        "id": "21qoZTz9qzrU",
        "colab": {
          "base_uri": "https://localhost:8080/"
        },
        "outputId": "c90af163-9d43-4859-a50e-621d8cd81244"
      },
      "execution_count": null,
      "outputs": [
        {
          "output_type": "execute_result",
          "data": {
            "text/plain": [
              "[7, 14, 21, 28, 35, 42, 49, 56, 63, 70]"
            ]
          },
          "metadata": {},
          "execution_count": 5
        }
      ]
    },
    {
      "cell_type": "markdown",
      "source": [
        "b.) Tampilkan tabel perkalian 121"
      ],
      "metadata": {
        "id": "fu3dnYjarhax"
      }
    },
    {
      "cell_type": "code",
      "source": [
        "#memanggil fungsi\n",
        "..."
      ],
      "metadata": {
        "colab": {
          "base_uri": "https://localhost:8080/"
        },
        "id": "3dZd6AZKrgm3",
        "outputId": "6dceaf8e-6e96-4010-f8d5-efbc2874847f"
      },
      "execution_count": null,
      "outputs": [
        {
          "output_type": "execute_result",
          "data": {
            "text/plain": [
              "[121, 242, 363, 484, 605, 726, 847, 968, 1089, 1210]"
            ]
          },
          "metadata": {},
          "execution_count": 6
        }
      ]
    },
    {
      "cell_type": "markdown",
      "source": [
        "c.) Kemudian, anda ingin menampilkan tabel perkalian 10 tetapi dengan panjang tabel hingga 15\n",
        "\n",
        "Tampilkan nilai tersebut tanpa merubah fungsi\n",
        "```\n",
        "Catatan:\n",
        "  - Anda dapat menggunakan keyword arguments\n",
        "```"
      ],
      "metadata": {
        "id": "LTug1JUisRHg"
      }
    },
    {
      "cell_type": "code",
      "source": [
        "#memanggil fungsi\n",
        "..."
      ],
      "metadata": {
        "colab": {
          "base_uri": "https://localhost:8080/"
        },
        "id": "o7ZKtqydrehf",
        "outputId": "894498b0-2120-4752-a366-37b7e68e4976"
      },
      "execution_count": null,
      "outputs": [
        {
          "output_type": "execute_result",
          "data": {
            "text/plain": [
              "[10, 20, 30, 40, 50, 60, 70, 80, 90, 100, 110, 120, 130, 140, 150]"
            ]
          },
          "metadata": {},
          "execution_count": 24
        }
      ]
    },
    {
      "cell_type": "markdown",
      "source": [
        "---\n",
        "##Case 3 : Perhitungan BMI\n",
        "Anda bekerja disuatu pekerjaan dibidang kesehatan dan diminta untuk membuat kalkulator BMI (Body Mass index) sederhana yang dapat menentukan apakah orang tersebut mengalami berat badan dibawah normal, berat badan normal, kelebihan berat badan, atau obesitas berdasarkan berat badan dan tinggi badan yang dimasukkan. Fungsi dikembangkan dengan ketentuan sebagai berikut :"
      ],
      "metadata": {
        "id": "L0l9afm1d1o7"
      }
    },
    {
      "cell_type": "markdown",
      "source": [
        "###3A.\n",
        "Buatlah sebuah fungsi **bmi** yang dapat menampung input dari user yang berisi berapa berat badan user (dalam kilogram) dan berapa tinggi badan user (dalam sentimeter)\n",
        "\n",
        "```\n",
        "🔽 Ketika fungsi dijalankan, akan menghasilkan 🔽\n",
        " Masukkan berat badan (dalam kg) :\n",
        " Masukkan tinggi badan (dalam cm) : \n",
        " \n",
        "```"
      ],
      "metadata": {
        "id": "oV09zqs7fQlZ"
      }
    },
    {
      "cell_type": "code",
      "source": [
        "#buat fungsi\n",
        "..."
      ],
      "metadata": {
        "id": "HFjjB25EgDtg"
      },
      "execution_count": null,
      "outputs": []
    },
    {
      "cell_type": "markdown",
      "source": [
        "Untuk mengecek apakah fungsi yang anda buat dapat berjalan sesuai kriteria atau tidak, anda dapat memanggil fungsi bmi"
      ],
      "metadata": {
        "id": "naLa_YGagNO7"
      }
    },
    {
      "cell_type": "code",
      "source": [
        "#memanggil fungsi\n",
        "..."
      ],
      "metadata": {
        "colab": {
          "base_uri": "https://localhost:8080/"
        },
        "id": "nOVPD_dRuACA",
        "outputId": "daaca94f-3cba-4552-f681-4c5c73005732"
      },
      "execution_count": null,
      "outputs": [
        {
          "name": "stdout",
          "output_type": "stream",
          "text": [
            " Masukkan berat badan (dalam kg) : 50\n",
            " Masukkan tinggi badan (dalam cm) :  150\n"
          ]
        }
      ]
    },
    {
      "cell_type": "markdown",
      "source": [
        "###3B.\n",
        "Kembangkanlah fungsi yang sudah dibuat agar dapat menghitung BMI dari input yang sudah diberikan dan menentukan kategori BMI.\n",
        "\n",
        "| BMI |Kategori|\n",
        "|-|-|\n",
        "|**<18,5**  | Berat Badan dibawah normal| \n",
        "|**18,5 - 22,9**  | Berat badan normal | \n",
        "|**23 - 24,9**  | Kelebihan berat badan | \n",
        "|**>= 25**  | Obesitas | \n",
        "\n",
        "```\n",
        "Keterangan :\n",
        " - Input berat badan dan tinggi badan dari user yang akan digunakan untuk melakukan perhitungan BMI\n",
        " - Rumus perhitungan BMI = berat badan(kg) : ( tinggi badan(meter) x tinggi badan(meter) )\n",
        " - Bulatkan hasil BMI hingga 2 angka dibelakang koma.\n",
        " - Anda dapat memanfaatkan branching untuk mengembangkan fungsi.\n",
        " - Untuk meminimalisir terjadinya error, ketika user input selain angka / number. Maka program akan menampilkan \"Input harus berupa angka” \n",
        "\n",
        "🔽Contoh output ketika fungsi dijalankan, akan menghasilkan 🔽\n",
        "Masukkan berat badan (dalam kg) : 60\n",
        "Masukkan tinggi badan (dalam cm) :  162\n",
        "\n",
        "Body Mass Index (BMI) : 22.86\n",
        "Kategori : Berat normal\n",
        "```"
      ],
      "metadata": {
        "id": "NX6Sbx1pgkFs"
      }
    },
    {
      "cell_type": "code",
      "source": [
        "#Mengembangkan fungsi agar dapat menghitung dan menetukan BMI\n",
        "..."
      ],
      "metadata": {
        "id": "FDlssrDdgjdd"
      },
      "execution_count": null,
      "outputs": []
    },
    {
      "cell_type": "markdown",
      "source": [
        "Untuk dapat mengecek apakah fungsi yang anda buat sesuai dengan kriteria diminta atau tidak, anda dapat melakukan pemanggilan fungsi **bmi**\n",
        "\n",
        "input A :\n",
        "Berat badan Ara = 60 kg\n",
        "Tinggi Badan Ara = 162 cm\n",
        "\n",
        "input B :\n",
        "Berat badan Ahmad = 62 kg\n",
        "Tinggi Badan Ahmad = 187,4 cm"
      ],
      "metadata": {
        "id": "SrXJ2Kl_VNHy"
      }
    },
    {
      "cell_type": "code",
      "source": [
        "#memanggil fungsi dengan input A\n",
        "..."
      ],
      "metadata": {
        "id": "ghLakj7Ojv9f",
        "colab": {
          "base_uri": "https://localhost:8080/"
        },
        "outputId": "c44c6403-c075-43cd-b81c-f7b096cf9fb5"
      },
      "execution_count": null,
      "outputs": [
        {
          "output_type": "stream",
          "name": "stdout",
          "text": [
            "Masukkan berat badan (dalam kg) : 60\n",
            "Masukkan tinggi badan (dalam cm) :  162\n",
            "\n",
            "Body Mass Index (BMI) : 22.86\n",
            "Kategori : Berat normal\n"
          ]
        }
      ]
    },
    {
      "cell_type": "code",
      "source": [
        "#memanggil fungsi dengan input B\n",
        "..."
      ],
      "metadata": {
        "id": "C3dJIZIpk9Yi",
        "colab": {
          "base_uri": "https://localhost:8080/"
        },
        "outputId": "8c4cc75f-1044-453d-c582-6f45e67c11a5"
      },
      "execution_count": null,
      "outputs": [
        {
          "output_type": "stream",
          "name": "stdout",
          "text": [
            "Masukkan berat badan (dalam kg) : 62\n",
            "Masukkan tinggi badan (dalam cm) :  187.4\n",
            "\n",
            "Body Mass Index (BMI) : 17.65\n",
            "Kategori : Berat badan dibawah normal\n"
          ]
        }
      ]
    },
    {
      "cell_type": "markdown",
      "source": [
        "---\n",
        "##Case 4\n",
        "Sebuah sekolah sedang melakukan survey mengenai pengeluaran transportasi (berangkat-pulang sekolah) perbulan yang dikeluarkan siswa SD A selama sebulan \n",
        "\n",
        "Untuk menunjang survey pengeluaran, anda diminta untuk membuat fungsi dengan menggunakan arbitrary keyword arguments yang dapat menampilkan pasangan nama siswa dan besaran biaya transport (rupiah) yang dikeluarkan perbulannya.\n"
      ],
      "metadata": {
        "id": "dJwpmTWXj5QI"
      }
    },
    {
      "cell_type": "markdown",
      "source": [
        "###4A. \n",
        "Membuat fungsi menggunakan arbitrary keyword arguments\n",
        "```\n",
        "Catatan:\n",
        " - Nilai yang dimasukkan adalah nama siswa dan biaya pengeluaran transportasi perbulannya\n",
        "\n",
        "🔽 Ketika fungsi dipanggil, output yang diharapkan 🔽\n",
        "  Pengeluaran Niriina Amalina untuk transportasi senilai : Rp.150000\n",
        "```"
      ],
      "metadata": {
        "id": "Y9vy05cfnxNx"
      }
    },
    {
      "cell_type": "code",
      "source": [
        "#membuat fungsi\n",
        "..."
      ],
      "metadata": {
        "id": "mnppI-s9oTHp"
      },
      "execution_count": null,
      "outputs": []
    },
    {
      "cell_type": "markdown",
      "source": [
        "###4B.\n",
        "Beberapa hari kemudian, telah didapat sampel sementara dari survey yang dijabarkan dalam tabel berikut:\n",
        "\n",
        "| Nama Siswa |Pengeluaran Transportasi Perbulan|\n",
        "|-|-|\n",
        "|Randy | Rp. 240.000 | \n",
        "|Alfin| Rp. 200.000 | \n",
        "|Shafira | Rp. 175.000 | \n",
        "|Andi  | Rp. 320.000| \n",
        "|Nuning  | Rp. 400.000 | \n",
        "\n",
        "Cobalah panggil fungsi berdasarkan data diatas!"
      ],
      "metadata": {
        "id": "7JoTI3jDpi6h"
      }
    },
    {
      "cell_type": "code",
      "source": [
        "#memanggil fungsi\n",
        "..."
      ],
      "metadata": {
        "colab": {
          "base_uri": "https://localhost:8080/"
        },
        "id": "XF8IGdFTrS3g",
        "outputId": "d63ed033-4513-424f-a6ab-11bb136edfc4"
      },
      "execution_count": null,
      "outputs": [
        {
          "output_type": "stream",
          "name": "stdout",
          "text": [
            "Pengeluaran Randy untuk transportasi senilai : Rp.240000\n",
            "Pengeluaran Alfin untuk transportasi senilai : Rp.200000\n",
            "Pengeluaran Shafira untuk transportasi senilai : Rp.175000\n",
            "Pengeluaran Andi untuk transportasi senilai : Rp.320000\n",
            "Pengeluaran Nuning untuk transportasi senilai : Rp.400000\n"
          ]
        }
      ]
    },
    {
      "cell_type": "markdown",
      "source": [
        "---\n",
        "##Case 5 : Docstring Perhitungan Faktorial\n",
        "Terdapat fungsi **print_faktor** yang dapat mengetahui faktorisasi dari suatu angka:"
      ],
      "metadata": {
        "id": "_TD7XmgEsun7"
      }
    },
    {
      "cell_type": "code",
      "source": [
        "def print_faktor(angka):\n",
        "    print(\"faktor dari \",angka,\"adalah:\")\n",
        "    for i in range(1, angka + 1):\n",
        "        if angka % i == 0:\n",
        "            print(i, end = ' ')\n",
        "\n",
        "angka_input = 50"
      ],
      "metadata": {
        "id": "aeDxjN2DtboN"
      },
      "execution_count": null,
      "outputs": []
    },
    {
      "cell_type": "code",
      "source": [
        "print_faktor(angka_input)"
      ],
      "metadata": {
        "colab": {
          "base_uri": "https://localhost:8080/"
        },
        "id": "vsw0lFsAudnT",
        "outputId": "c53d3e1b-6190-44cd-ebee-463e8fe382ee"
      },
      "execution_count": null,
      "outputs": [
        {
          "output_type": "stream",
          "name": "stdout",
          "text": [
            "faktor dari  50 adalah:\n",
            "1 2 5 10 25 50 "
          ]
        }
      ]
    },
    {
      "cell_type": "markdown",
      "source": [
        "Akan tetapi, fungsi tersebut masih sulit untuk dipahami. Maka dari itu, buatlah docstring dari fungsi diatas agar mempermudah user dalam memahami program!"
      ],
      "metadata": {
        "id": "-9D838-juVaf"
      }
    },
    {
      "cell_type": "code",
      "source": [
        "#membuat docstring\n",
        "#copy paste fungsi diatas dan tambahkan docstring\n",
        "...\n"
      ],
      "metadata": {
        "id": "UnjD0Gqvus_6"
      },
      "execution_count": null,
      "outputs": []
    },
    {
      "cell_type": "markdown",
      "source": [
        "##Case 6 : Perhitungan Pendapatan Perkapita\n",
        "Anda ingin mengetahui tingkat kemakmuran negara dan masyarakat melalui perhitungan Pendapatan PerKapita (PPK). \n",
        "\n",
        "Maka anda berencana untuk membuat fungsi **ppk** yang dapat menghitung hasil pendapatan rata-rata masyarakat pada suatu negara\n",
        "\n",
        "```\n",
        "Catatan:\n",
        " Rumus pendapatan perkapita = pendapatan nasional : jumlah penduduk\n",
        "```"
      ],
      "metadata": {
        "id": "0ubXiNwiu9jg"
      }
    },
    {
      "cell_type": "markdown",
      "source": [
        "###6A.\n",
        "Buatlah fungsi tersebut!\n",
        "\n",
        "```\n",
        "Catatan :     \n",
        " - Didalam fungsi, argumen yang akan diinputkan adalah nama negara, pendapatan nasional suatu negara, dan total jumlah penduduk.\n",
        "\n",
        "🔽Contoh output ketika fungsi dijalankan, akan menghasilkan 🔽\n",
        "Pendapatan negara x adalah y milyar rupiah perpenduduk.\n",
        " ```"
      ],
      "metadata": {
        "id": "ZgBYDZSqwbu4"
      }
    },
    {
      "cell_type": "code",
      "source": [
        "#membuat fungsi ppk\n",
        "..."
      ],
      "metadata": {
        "id": "GX_bXqXixS-y"
      },
      "execution_count": null,
      "outputs": []
    },
    {
      "cell_type": "markdown",
      "source": [
        "Panggil fungsi tersebut dengan menggunakan data dibawah ini\n",
        "\n",
        "| input ke -1 | Nama Negara |Pendapatan Nasional (Miliar Rupiah) | Jumlah Penduduk (Juta Jiwa)\n",
        "| - |-|-| -|\n",
        "|1. |Indonesia | 210 | 200 |  \n",
        "|2. |Malaysia | 75 | 25 |\n",
        "|3. |Vietnam | 80 | 67 | "
      ],
      "metadata": {
        "id": "N8GsOUmVcPRE"
      }
    },
    {
      "cell_type": "code",
      "source": [
        "# memanggil fungsi dengan input ke-1\n",
        "..."
      ],
      "metadata": {
        "colab": {
          "base_uri": "https://localhost:8080/",
          "height": 35
        },
        "id": "fbMEU7qqcNPh",
        "outputId": "e5d28197-a963-46cc-a93a-4a67501656fb"
      },
      "execution_count": null,
      "outputs": [
        {
          "output_type": "execute_result",
          "data": {
            "text/plain": [
              "'Pendapatan negara Indonesia adalah 1.05 milyar rupiah perpenduduk.'"
            ],
            "application/vnd.google.colaboratory.intrinsic+json": {
              "type": "string"
            }
          },
          "metadata": {},
          "execution_count": 10
        }
      ]
    },
    {
      "cell_type": "code",
      "source": [
        "# memanggil fungsi dengan input ke-2\n",
        "..."
      ],
      "metadata": {
        "colab": {
          "base_uri": "https://localhost:8080/",
          "height": 35
        },
        "id": "9av2I5RDn3Ic",
        "outputId": "9ba8a28c-6e8d-4e2f-89d8-e4ebd47f536a"
      },
      "execution_count": null,
      "outputs": [
        {
          "output_type": "execute_result",
          "data": {
            "text/plain": [
              "'Pendapatan negara Malaysia adalah 3.0 milyar rupiah perpenduduk.'"
            ],
            "application/vnd.google.colaboratory.intrinsic+json": {
              "type": "string"
            }
          },
          "metadata": {},
          "execution_count": 11
        }
      ]
    },
    {
      "cell_type": "code",
      "source": [
        "# memanggil fungsi dengan input ke-3\n",
        "..."
      ],
      "metadata": {
        "colab": {
          "base_uri": "https://localhost:8080/",
          "height": 35
        },
        "id": "OYI0UUpan43W",
        "outputId": "8e226df8-f49a-478e-a7ee-621c798986f7"
      },
      "execution_count": null,
      "outputs": [
        {
          "output_type": "execute_result",
          "data": {
            "text/plain": [
              "'Pendapatan negara Vietnam adalah 1.1940298507462686 milyar rupiah perpenduduk.'"
            ],
            "application/vnd.google.colaboratory.intrinsic+json": {
              "type": "string"
            }
          },
          "metadata": {},
          "execution_count": 12
        }
      ]
    },
    {
      "cell_type": "markdown",
      "source": [
        "###6B.\n",
        "Kemudian, untuk memudahkan dalam memahami isi dari fungsi, anda berencana untuk membuat docstring fungsi ppk"
      ],
      "metadata": {
        "id": "HTZAqjXIxYJO"
      }
    },
    {
      "cell_type": "code",
      "source": [
        "#fungsi ppk\n",
        "#membuat docstring dari fungsi ppk\n",
        "..."
      ],
      "metadata": {
        "id": "11kpY1EBVmS-"
      },
      "execution_count": null,
      "outputs": []
    },
    {
      "cell_type": "markdown",
      "source": [
        "###6C.\n",
        "Anda berencana untuk membuat fungsi baru ppk dengan menggunakan fungsi lambda agar fungsi lebih ringkas dan sederhana.\n",
        "```\n",
        "🔽Contoh output ketika fungsi dijalankan, akan menghasilkan 🔽\n",
        "Pendapatan negara x adalah y milyar rupiah perpenduduk.\n",
        " ```"
      ],
      "metadata": {
        "id": "QC_w4xvSVvqD"
      }
    },
    {
      "cell_type": "code",
      "source": [
        "#membuat fungsi ppk dengan lambda\n",
        "..."
      ],
      "metadata": {
        "id": "BqHjlwTaaX9s"
      },
      "execution_count": null,
      "outputs": []
    },
    {
      "cell_type": "markdown",
      "source": [
        "###6D.\n",
        "Panggil fungsi lambda dari data Indonesia!"
      ],
      "metadata": {
        "id": "hL254KgQ1jWQ"
      }
    },
    {
      "cell_type": "code",
      "source": [
        "# memanggil fungsi \n",
        "..."
      ],
      "metadata": {
        "id": "Xvz522kC1s3Y",
        "colab": {
          "base_uri": "https://localhost:8080/",
          "height": 35
        },
        "outputId": "7e3ae326-c9a9-4c0f-9c29-f50620aa4b58"
      },
      "execution_count": null,
      "outputs": [
        {
          "output_type": "execute_result",
          "data": {
            "text/plain": [
              "'Pendapatan negara Indonesia adalah 1.05 milyar rupiah perpenduduk.'"
            ],
            "application/vnd.google.colaboratory.intrinsic+json": {
              "type": "string"
            }
          },
          "metadata": {},
          "execution_count": 49
        }
      ]
    },
    {
      "cell_type": "markdown",
      "source": [
        "# **Function II**"
      ],
      "metadata": {
        "id": "80BZybABLNfX"
      }
    },
    {
      "cell_type": "markdown",
      "source": [
        "---\n",
        "##Case 1 : Kebutuhan Kalori Harian\n",
        "Sebuah lembaga kesehatan berencana untuk melakukan penelitian mengenai pengaruh kebutuhan kalori / Basal Metabolic Rate (BMR) pada pekerja kantor yang aktivitas sehari-harinya duduk seharian penuh didepan komputer.\n",
        "\n",
        "Untuk pengembangan proyek penelitian, anda diminta untuk membuat modul python berisi fungsi-fungsi menghitung kebutuhan kalori harian pria dan wanita."
      ],
      "metadata": {
        "id": "5WFQcV7IAUrV"
      }
    },
    {
      "cell_type": "markdown",
      "source": [
        "###1A.\n",
        "Untuk langkah awal, buatlah modul **bmr** yang berisi fungsi perhitungan kebutuhan kalori untuk pria dan wanita.\n",
        "\n",
        "Kemudian, buatlah fungsi baru **pria** yang berisi perhitungan kebutuhan kalori berdasarkan rumus Harris Beneddict.\n",
        "```\n",
        "Catatan :\n",
        " - Argumen yang akan diinputkan adalah berat badan (kg), tinggi badan (cm), dan usia(tahun)\n",
        " - Rumus menghitung BMR pria = ( 88,362 + (13,397 x berat badan) + (4,799 x tinggi badan) – (5,677 x usia) ) x 1,2\n",
        " - Bulatkan hasil BMR dua angka dibelakang koma\n",
        "\n",
        "🔽 Output ketika program dijalankan, akan menghasilkan 🔽\n",
        "Kebutuhan kalori yang dibutuhkan sebesar :\n",
        "\n",
        "\n",
        "```"
      ],
      "metadata": {
        "id": "3fYIZ2bdLwa1"
      }
    },
    {
      "cell_type": "code",
      "execution_count": null,
      "metadata": {
        "id": "x_zVDKp1-qak"
      },
      "outputs": [],
      "source": [
        "#modul bmr\n",
        "#fungsi pria\n",
        "..."
      ]
    },
    {
      "cell_type": "markdown",
      "source": [
        "###1B.\n",
        "Selanjutnya, buatlah fungsi baru **wanita** yang berisi perhitungan kebutuhan kalori berdasarkan rumus Harris Beneddict.\n",
        "```\n",
        "Catatan :\n",
        " - Argumen yang akan diinputkan adalah berat badan (kg), tinggi badan (cm), dan usia(tahun)\n",
        " - Rumus menghitung BMR wanita = ( 447,593 + (9,247 x berat badan) + (3,098 x tinggi badan) – (4,330 x usia) ) x 1,2\n",
        " - Bulatkan hasil BMR dua angka dibelakang koma\n",
        "\n",
        "🔽 Output ketika program dijalankan, akan menghasilkan 🔽\n",
        "Kebutuhan kalori yang dibutuhkan sebesar :\n",
        "\n",
        "\n",
        "```"
      ],
      "metadata": {
        "id": "vekMdWeTOLcw"
      }
    },
    {
      "cell_type": "code",
      "source": [
        "#modul bmr\n",
        "# fungsi pria\n",
        "...\n",
        "\n",
        "# fungsi wanita\n",
        "..."
      ],
      "metadata": {
        "id": "ZaZwYfUdOgpC"
      },
      "execution_count": null,
      "outputs": []
    },
    {
      "cell_type": "markdown",
      "source": [
        "###1C.\n",
        "Setelah modul disimpan, anda ingin mengecek apakah modul yang anda bangun dapat berjalan atau tidak.\n",
        "\n",
        "Untuk itu anda berencana mencoba membuat file utama untuk mengecek apakah modul dapat berjalan dengan baik. Impor modul **bmr** yang telah dibuat sebelumnya.\n",
        "\n"
      ],
      "metadata": {
        "id": "5gE9EKxNOqPY"
      }
    },
    {
      "cell_type": "code",
      "source": [
        "#impor modul\n",
        "..."
      ],
      "metadata": {
        "id": "oxVSH-d7PExs"
      },
      "execution_count": null,
      "outputs": []
    },
    {
      "cell_type": "markdown",
      "source": [
        "###1D.\n",
        "Coba panggil fungsi **pria** dengan nilai input:\n",
        "  - Berat badan Wahyu = 70 kg\n",
        "  - Tinggi Badan Wahyu = 181 kg\n",
        "  - Usia Wahyu = 25 tahun\n",
        "\n"
      ],
      "metadata": {
        "id": "QtqwpdodPXxh"
      }
    },
    {
      "cell_type": "code",
      "source": [
        "#akses fungsi pria\n",
        "..."
      ],
      "metadata": {
        "id": "Kr4_GdqXPh2l",
        "colab": {
          "base_uri": "https://localhost:8080/"
        },
        "outputId": "1939bc50-c4a1-41b2-80e7-08429db11ba5"
      },
      "execution_count": null,
      "outputs": [
        {
          "output_type": "stream",
          "name": "stdout",
          "text": [
            "Kebutuhan kalori yang dibutuhkan sebesar : \n"
          ]
        },
        {
          "output_type": "execute_result",
          "data": {
            "text/plain": [
              "2103.42"
            ]
          },
          "metadata": {},
          "execution_count": 11
        }
      ]
    },
    {
      "cell_type": "markdown",
      "source": [
        "###1E.\n",
        "Coba panggil fungsi **wanita** dengan nilai input:\n",
        "  - Berat badan Rita = 62 kg\n",
        "  - Tinggi Badan Rita = 158 kg\n",
        "  - Usia Rita  = 27 tahun\n",
        "\n"
      ],
      "metadata": {
        "id": "3F-SOnMJQE1B"
      }
    },
    {
      "cell_type": "code",
      "source": [
        "#akses fungsi wanita\n",
        "...  "
      ],
      "metadata": {
        "id": "7oVMp5jTQWR2",
        "colab": {
          "base_uri": "https://localhost:8080/"
        },
        "outputId": "babb4ff6-314d-4b64-9d6f-a8c06fd7a096"
      },
      "execution_count": null,
      "outputs": [
        {
          "output_type": "stream",
          "name": "stdout",
          "text": [
            "Kebutuhan kalori yang dibutuhkan sebesar : \n"
          ]
        },
        {
          "output_type": "execute_result",
          "data": {
            "text/plain": [
              "1672.18"
            ]
          },
          "metadata": {},
          "execution_count": 13
        }
      ]
    },
    {
      "cell_type": "markdown",
      "source": [
        "---\n",
        "##Case 2 : Laporan Penjualan\n",
        "Terdapat laporan penjualan perusahaan Z di Bulan April yang disajikan dalam bentuk tabel dibawah.\n",
        "\n",
        "|Laporan Penjualan Bulan April | Keterangan |\n",
        "|-|-|\n",
        "|Penjualan | Rp. 100.000.000|\n",
        "|Potongan Penjualan |Rp. 15.000.000|\n",
        "|Retur Pembelian | Rp. 2.000.000|\n",
        "|Persediaan Barang |Rp. 75.000.000|\n",
        "|Persediaan Akhir |Rp. 15.000.000|\n"
      ],
      "metadata": {
        "id": "b8w4OmXqQhRT"
      }
    },
    {
      "cell_type": "markdown",
      "source": [
        "###2A.\n",
        "Buatlah sebuat file python baru dengan nama **main.py** dan tambahkan dictionary berisi tabel Laporan Penjualan Bulan April."
      ],
      "metadata": {
        "id": "PDseX4fJUjTE"
      }
    },
    {
      "cell_type": "code",
      "source": [
        "#file main.py\n",
        "#dictionary\n",
        "..."
      ],
      "metadata": {
        "id": "Oxa4KPThVfRQ"
      },
      "execution_count": null,
      "outputs": []
    },
    {
      "cell_type": "code",
      "source": [
        "#coba cek isi dictionary, apakah sudah sesuai dengan data atau belum\n",
        "..."
      ],
      "metadata": {
        "colab": {
          "base_uri": "https://localhost:8080/"
        },
        "id": "PLtmHgJ19OSq",
        "outputId": "4bdccdc4-4def-4522-fe10-4e8e82eca661"
      },
      "execution_count": null,
      "outputs": [
        {
          "output_type": "execute_result",
          "data": {
            "text/plain": [
              "dict_items([('penjualan', 100000000), ('potongan_penjualan', 15000000), ('retur', 2000000), ('persediaan_barang', 75000000), ('persediaan_akhir', 1500000)])"
            ]
          },
          "metadata": {},
          "execution_count": 18
        }
      ]
    },
    {
      "cell_type": "markdown",
      "source": [
        "###2B.\n",
        "Selanjutnya, anda diminta untuk membuat modul baru dengan nama **laporan penjualan** yang berisi perhitungan harga pokok penjualan(HPP), penjualan bersih, dan laba kotor dari tabel diatas,\n",
        "\n",
        "Buatlah **fungsi hpp** dari modul laporan penjualan\n",
        "```\n",
        "Catatan :\n",
        " - Rumus menghitung harga pokok penjualan = persediaan barang - persediaan akhir \n",
        " - Value diambil langsung dari dictionary yang dibuat sebelumnya di main file.\n",
        "```"
      ],
      "metadata": {
        "id": "CbfzeVu4UILq"
      }
    },
    {
      "cell_type": "code",
      "source": [
        "#modul laporan_penjualan\n",
        "#fungsi hpp\n",
        "..."
      ],
      "metadata": {
        "id": "3hfPzr_eUHlW"
      },
      "execution_count": null,
      "outputs": []
    },
    {
      "cell_type": "markdown",
      "source": [
        "###2C.\n",
        "Kemudian buatlah **fungsi penjualan bersih** dari modul laporan penjualan\n",
        "```\n",
        "Catatan :\n",
        " - Rumus menghitung penjualan bersih = penjualan - (potongan penjualan + retur pembelian) \n",
        " - Value diambil langsung dari dictionary yang dibuat sebelumnya di main file.\n",
        "```"
      ],
      "metadata": {
        "id": "t9LzM80HYQO1"
      }
    },
    {
      "cell_type": "code",
      "source": [
        "# modul laporan_penjualan\n",
        "# fungsi hpp\n",
        "...\n",
        "\n",
        "# fungsi penjualan_bersih\n",
        "..."
      ],
      "metadata": {
        "id": "qDT9GdlwY1-X"
      },
      "execution_count": null,
      "outputs": []
    },
    {
      "cell_type": "markdown",
      "source": [
        "###2D.\n",
        "Kemudian buatlah **fungsi laba kotor** dari modul laporan penjualan\n",
        "```\n",
        "Catatan :\n",
        " - Rumus menghitung laba kotor = penjualan bersih - harga pokok penjualan\n",
        " - Value diambil langsung dari dictionary yang dibuat sebelumnya di main file.\n",
        "```"
      ],
      "metadata": {
        "id": "okX3KpgdY6vM"
      }
    },
    {
      "cell_type": "code",
      "source": [
        "# modul laporan_penjualan\n",
        "# fungsi hpp\n",
        "...\n",
        "\n",
        "# fungsi penjualan_bersih\n",
        "...\n",
        "\n",
        "# fungsi laba kotor\n",
        "..."
      ],
      "metadata": {
        "id": "JJ7zBPPmZJqS"
      },
      "execution_count": null,
      "outputs": []
    },
    {
      "cell_type": "markdown",
      "source": [
        "###2E.\n",
        "Simpanlah modul python tersebut. Kemudian, untuk mencoba apakah modul dapat berjalan dengan baik di **main.py**. Import dan jalankan fungsi-fungsi yang ada didalamnya.\n",
        "\n",
        "Import modul\n"
      ],
      "metadata": {
        "id": "eeXg-Gu-ZOBl"
      }
    },
    {
      "cell_type": "code",
      "source": [
        "# main.py\n",
        "# import modul\n",
        "...\n",
        "\n",
        "# dictionary yang telah dibuat sebelumnya\n",
        "..."
      ],
      "metadata": {
        "id": "eqaW_g-vZsix"
      },
      "execution_count": null,
      "outputs": []
    },
    {
      "cell_type": "markdown",
      "source": [
        "###2F.\n",
        "Panggil fungsi **hpp** dengan nilai input dari dictionary yang telah dibuat sebelumnya.\n",
        "\n"
      ],
      "metadata": {
        "id": "J121dt6vZ6ds"
      }
    },
    {
      "cell_type": "code",
      "source": [
        "# main.py\n",
        "# import modul\n",
        "...\n",
        "\n",
        "# dictionary yang telah dibuat sebelumnya\n",
        "...\n",
        "#memanggil fungsi hpp\n",
        "..."
      ],
      "metadata": {
        "colab": {
          "base_uri": "https://localhost:8080/"
        },
        "id": "4pJaDSxVA0Rk",
        "outputId": "61f8896f-f684-4eb3-a888-38c4cda6d305"
      },
      "execution_count": null,
      "outputs": [
        {
          "output_type": "execute_result",
          "data": {
            "text/plain": [
              "73500000"
            ]
          },
          "metadata": {},
          "execution_count": 30
        }
      ]
    },
    {
      "cell_type": "markdown",
      "source": [
        "###2G.\n",
        "Setelah nilai harga pokok penjualan telah didapat. Simpan nilai hpp kedalam dictionary agar nantinya dapat digunakan kembali oleh program.\n",
        "\n",
        "\n"
      ],
      "metadata": {
        "id": "6WOj5QqZbZ6t"
      }
    },
    {
      "cell_type": "code",
      "source": [
        "# main.py\n",
        "# import modul\n",
        "...\n",
        "\n",
        "# dictionary yang telah dibuat sebelumnya\n",
        "...\n",
        "\n",
        "#memanggil fungsi hpp\n",
        "...\n",
        "\n",
        "#simpan nilai hpp kedalam dictionary\n",
        "..."
      ],
      "metadata": {
        "id": "oIyGi8HYb0zE"
      },
      "execution_count": null,
      "outputs": []
    },
    {
      "cell_type": "markdown",
      "source": [
        "###2H.\n",
        "Panggil fungsi **penjualan_bersih** dengan nilai input dari dictionary yang telah dibuat sebelumnya.\n",
        "\n"
      ],
      "metadata": {
        "id": "8pMSR3W7cFMa"
      }
    },
    {
      "cell_type": "code",
      "source": [
        "#memanggil fungsi penjualan bersih\n",
        "..."
      ],
      "metadata": {
        "colab": {
          "base_uri": "https://localhost:8080/"
        },
        "id": "5oyg85PkBSkB",
        "outputId": "b7ce9e70-53e2-46c5-c096-9b3d467f6370"
      },
      "execution_count": null,
      "outputs": [
        {
          "output_type": "execute_result",
          "data": {
            "text/plain": [
              "83000000"
            ]
          },
          "metadata": {},
          "execution_count": 32
        }
      ]
    }
  ]
}